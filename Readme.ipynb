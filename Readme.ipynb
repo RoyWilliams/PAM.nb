{
 "cells": [
  {
   "cell_type": "markdown",
   "id": "07ba2227",
   "metadata": {},
   "source": [
    "## Grant Planning package with People and Money\n",
    "\n",
    "### Installation\n",
    "In addition to jupyter notebook, your machine should have these:\n",
    "```\n",
    "pip3 install matplotlib\n",
    "pip3 install pandas\n",
    "pip3 install openpyxl\n",
    "pip3 install xlrd\n",
    "```\n",
    "\n",
    "### Usage\n",
    "Change directory to where the notebooks (.ipynb) files are and \n",
    "```\n",
    "jupyter notebook\n",
    "```\n",
    "The code will expect to find an Excel file about projects, how much is \n",
    "awarded and spent in various accounting categories. The code will also \n",
    "expect an Excel file of transactions, about what has been spent on which grant \n",
    "in various categories.\n",
    "\n",
    "There are two Excel files that come from the People and Money system:\n",
    "`project.xls` and `transaction.xlsx`\n",
    " \n",
    "There are four supporting concepts to understand. Three of these rely\n",
    "on additional JSON files. After running the following code snippets, \n",
    "you can clear the cell content by selecting the cell then from the menu\n",
    "'Cell/Current Outputs/Clear'"
   ]
  },
  {
   "cell_type": "markdown",
   "id": "5df0ef9b",
   "metadata": {},
   "source": [
    "---\n",
    "### Run\n",
    "This code covers an interval of months, from a month in the past\n",
    "that corresponds to the same month of the `project.xls`, to a month\n",
    "in the future. Actual expenditure is from the run start until the \n",
    "date of the `transactions.xlsx` file."
   ]
  },
  {
   "cell_type": "code",
   "execution_count": 1,
   "id": "40f8efbd",
   "metadata": {},
   "outputs": [
    {
     "name": "stdout",
     "output_type": "stream",
     "text": [
      "Run is from Aug-22 to Nov-23 (15 months)\n"
     ]
    }
   ],
   "source": [
    "import util\n",
    "run = util.run('Aug-22', 'Nov-23')\n",
    "run.print()"
   ]
  },
  {
   "cell_type": "markdown",
   "id": "071365a2",
   "metadata": {},
   "source": [
    "---\n",
    "Directory where the data files can be found"
   ]
  },
  {
   "cell_type": "code",
   "execution_count": 2,
   "id": "9dfa795b",
   "metadata": {},
   "outputs": [],
   "source": [
    "#data_dir = 'toydata'\n",
    "data_dir = 'toydata2'"
   ]
  },
  {
   "cell_type": "markdown",
   "id": "5554ae9d",
   "metadata": {},
   "source": [
    "---\n",
    "### People\n",
    "A JSON file contains last names of the personnel, with \n",
    "their [spine points](https://www.ed.ac.uk/human-resources/pay-reward/pay/pay-scales) and salary. There is a multiplier to convert \n",
    "salary for the person into cost for the grant. There is a python\n",
    "module people.py. You can run the cell below to see the results."
   ]
  },
  {
   "cell_type": "code",
   "execution_count": 3,
   "id": "ef902df3",
   "metadata": {},
   "outputs": [
    {
     "name": "stdout",
     "output_type": "stream",
     "text": [
      "Monthly cost per full-time person\n",
      "with cost/salary ratio  1.345\n",
      "\n",
      "Each line is: Name (spine) Cost\n",
      "      Bloggs (     49) £ 6929\n",
      "      Wilson (     40) £ 5315\n"
     ]
    }
   ],
   "source": [
    "import people\n",
    "people = people.people(data_dir+'/people.json')\n",
    "people.print()"
   ]
  },
  {
   "cell_type": "markdown",
   "id": "75189f0f",
   "metadata": {},
   "source": [
    "---\n",
    "### Grants\n",
    "Each grant is a combination of a hand-made file with short names and colours, \n",
    "together with the projects Excel file from P&M. The two are combined into a \n",
    "single file grants.json that is used for the plots and tables."
   ]
  },
  {
   "cell_type": "code",
   "execution_count": 4,
   "id": "a3577702",
   "metadata": {},
   "outputs": [
    {
     "name": "stdout",
     "output_type": "stream",
     "text": [
      "ComfortIV\n",
      "   Cushions for Comfort phase IV\n",
      "  P&M project  00000012_00000016\n",
      "\n",
      "MedievalVII\n",
      "   Medieval dog activities phase VII\n",
      "  P&M project  00000022_00000026\n",
      "\n"
     ]
    }
   ],
   "source": [
    "import grants\n",
    "g = grants.grants(data_dir+'/mygrants.json')\n",
    "g.print()"
   ]
  },
  {
   "cell_type": "markdown",
   "id": "c0c32f25",
   "metadata": {},
   "source": [
    "This file `mygrants.json` is human editable, just a choice of short names and colours really. \n",
    "It is meant to be supplemented with information from the `projects.xls`. \n",
    "Sometimes the P&M reported end time for the grant is not appropriate, and it can be \n",
    "specificed in this file to override the spreadsheet from P&M."
   ]
  },
  {
   "cell_type": "code",
   "execution_count": 5,
   "id": "15f963ad",
   "metadata": {},
   "outputs": [],
   "source": [
    "g.from_projects  (data_dir+'/project_Aug-22.xls', 'Aug-22')"
   ]
  },
  {
   "cell_type": "markdown",
   "id": "c0a61acb",
   "metadata": {},
   "source": [
    "The combined result \n",
    "is written to a file `grants.json` that is used henceforth."
   ]
  },
  {
   "cell_type": "code",
   "execution_count": 6,
   "id": "0b56a11d",
   "metadata": {
    "scrolled": false
   },
   "outputs": [
    {
     "name": "stdout",
     "output_type": "stream",
     "text": [
      "As of beginning of Aug-22\n",
      "ComfortIV\n",
      "   Cushions for Comfort phase IV\n",
      "  P&M project  00000012_00000016\n",
      "   Start 01-Oct-22, End 29-Jun-23 (9 months)\n",
      "   Awarded     Spent    Category\n",
      "    100000      20000   Salary\n",
      "     10000       2000   Travel\n",
      "         0          0   Equipment\n",
      "         0          0   Consumables\n",
      "\n",
      "MedievalVII\n",
      "   Medieval dog activities phase VII\n",
      "  P&M project  00000022_00000026\n",
      "   Start 01-Jan-22, End 29-Jun-24 (30 months)\n",
      "   Awarded     Spent    Category\n",
      "    300000      20000   Salary\n",
      "     40000       1000   Travel\n",
      "     10000          0   Equipment\n",
      "     20000          0   Consumables\n",
      "\n"
     ]
    }
   ],
   "source": [
    "g.write(data_dir+'/grants.json')\n",
    "g.print()"
   ]
  },
  {
   "cell_type": "markdown",
   "id": "8fe7415b",
   "metadata": {},
   "source": [
    "Grants are assigned colours in the `mygrants.json` file, \n",
    "which can be seen by running the following cell:"
   ]
  },
  {
   "cell_type": "code",
   "execution_count": 7,
   "id": "415fcad8",
   "metadata": {},
   "outputs": [
    {
     "data": {
      "text/html": [
       "<html><div style=\"background-color:#FF8DC0 ; padding: 20px;\">ComfortIV</div>\n",
       "<div style=\"background-color:#00FFF0 ; padding: 20px;\">MedievalVII</div>\n",
       "</html>"
      ],
      "text/plain": [
       "<IPython.core.display.HTML object>"
      ]
     },
     "metadata": {},
     "output_type": "display_data"
    }
   ],
   "source": [
    "from IPython.display import display, HTML\n",
    "out = g.colour_chart()\n",
    "display(HTML(out))"
   ]
  },
  {
   "cell_type": "markdown",
   "id": "df1db43c",
   "metadata": {},
   "source": [
    "---\n",
    "### Assign\n",
    "This is the forecasting part of the system, where FTE and salary are \n",
    "combined to see the effect on the grant. There is no forecasting of non-salary expenses.\n",
    "\n",
    "People are assigned to grants through records like:\n",
    "[\"Davidson\",    \"Gaia21To22\",    \"Jan-22\",    0.5],\n",
    "which says the person Davidson will work 50% on the grant Gaia21To22, \n",
    "starting Jan-22. The notebook Assign_Tool.ipynb shows who is working \n",
    "on which grant month by month, together with the sum of all the \n",
    "FTE percentages, which should add to 1.0 for a full-time employee.\n",
    "Running the following cell will be helpful in editing the assignFTE.json file."
   ]
  },
  {
   "cell_type": "code",
   "execution_count": 8,
   "id": "406860c4",
   "metadata": {
    "scrolled": false
   },
   "outputs": [
    {
     "name": "stdout",
     "output_type": "stream",
     "text": [
      "Bloggs\n",
      "   Aug-22 (0.50): 0.50 on MedievalVII| \n",
      "   Sep-22 (0.50): 0.50 on MedievalVII| \n",
      "   Oct-22 (1.00): 0.50 on  ComfortIV| 0.50 on MedievalVII| \n",
      "   Nov-22 (1.00): 0.50 on  ComfortIV| 0.50 on MedievalVII| \n",
      "   Dec-22 (1.00): 0.50 on  ComfortIV| 0.50 on MedievalVII| \n",
      "   Jan-23 (1.00): 0.50 on  ComfortIV| 0.50 on MedievalVII| \n",
      "   Feb-23 (1.00): 0.50 on  ComfortIV| 0.50 on MedievalVII| \n",
      "   Mar-23 (1.00): 0.50 on  ComfortIV| 0.50 on MedievalVII| \n",
      "   Apr-23 (1.00): 0.50 on  ComfortIV| 0.50 on MedievalVII| \n",
      "   May-23 (1.00): 0.50 on  ComfortIV| 0.50 on MedievalVII| \n",
      "   Jun-23 (1.00): 0.50 on  ComfortIV| 0.50 on MedievalVII| \n",
      "   Jul-23 (1.00): 0.50 on  ComfortIV| 0.50 on MedievalVII| \n",
      "   Aug-23 (1.00): 0.50 on  ComfortIV| 0.50 on MedievalVII| \n",
      "   Sep-23 (1.00): 0.50 on  ComfortIV| 0.50 on MedievalVII| \n",
      "   Oct-23 (1.00): 0.50 on  ComfortIV| 0.50 on MedievalVII| \n",
      "Wilson\n",
      "   Aug-22 (1.00): 1.00 on MedievalVII| \n",
      "   Sep-22 (1.00): 1.00 on MedievalVII| \n",
      "   Oct-22 (1.00): 1.00 on MedievalVII| \n",
      "   Nov-22 (1.00): 1.00 on MedievalVII| \n",
      "   Dec-22 (1.00): 1.00 on MedievalVII| \n",
      "   Jan-23 (1.00): 1.00 on MedievalVII| \n",
      "   Feb-23 (1.00): 1.00 on MedievalVII| \n",
      "   Mar-23 (1.00): 1.00 on MedievalVII| \n",
      "   Apr-23 (1.00): 1.00 on MedievalVII| \n",
      "   May-23 (1.00): 1.00 on MedievalVII| \n",
      "   Jun-23 (1.00): 1.00 on MedievalVII| \n",
      "   Jul-23 (1.00): 1.00 on MedievalVII| \n",
      "   Aug-23 (1.00): 1.00 on MedievalVII| \n",
      "   Sep-23 (1.00): 1.00 on MedievalVII| \n",
      "   Oct-23 (1.00): 1.00 on MedievalVII| \n"
     ]
    }
   ],
   "source": [
    "import assign\n",
    "af = assign.assign(\n",
    "    data_dir+'/assignFTE.json', \n",
    "    data_dir+'/grants.json', \n",
    "    data_dir+'/people.json', \n",
    "    run)\n",
    "af.print()"
   ]
  },
  {
   "cell_type": "markdown",
   "id": "78bef161",
   "metadata": {},
   "source": [
    "---\n",
    "### Non-salary expenses\n",
    "Each grant may be awarded money in several expense catagories. \n",
    "However some of these are ignored by this system, \n",
    "since the PI has no control over their expenditure. Some of the controllable\n",
    "expense categories are lumped together. This can be seen in the code `util.py`,\n",
    "where currently we have:"
   ]
  },
  {
   "cell_type": "code",
   "execution_count": 9,
   "id": "ed2e384e",
   "metadata": {},
   "outputs": [
    {
     "name": "stdout",
     "output_type": "stream",
     "text": [
      "All considered \"Salary\": ['Research Investigator', 'Research Assistant']\n",
      "\n",
      "All considered \"Consumables\": ['Consumables - Research Other Costs', 'Consumables - IT', 'Consumables - Telephone and Communication', 'Staff Conf Course and Seminar Fees']\n",
      "\n",
      "All considered \"Travel\": ['Travel and Subsistence']\n",
      "\n",
      "All considered \"Equipment\": ['Equipment']\n",
      "\n",
      "And these are ignored: ['nan', 'Grant Income', 'Financial Resources', 'Directly Allocated - Co-Principal Investigator Staff', 'Directly Allocated - Estates Costs', 'Directly Allocated - Infrastructure Technician Costs', 'Directly Allocated - Principal Investigator Staff', 'Directly Allocated - Co-Principal Investigator Staff', 'Directly Allocated Research Administration Staff', 'Indirect Costs']\n"
     ]
    }
   ],
   "source": [
    "import util\n",
    "print('All considered \"Salary\":',      util.category_salary)\n",
    "print()\n",
    "print('All considered \"Consumables\":', util.category_consumables)\n",
    "print()\n",
    "print('All considered \"Travel\":',      util.category_travel)\n",
    "print()\n",
    "print('All considered \"Equipment\":',   util.category_equipment)\n",
    "print()\n",
    "print('And these are ignored:',        util.category_ignore)"
   ]
  },
  {
   "cell_type": "markdown",
   "id": "06821397",
   "metadata": {},
   "source": [
    "---\n",
    "### Notebook Grants.ipynb\n",
    "Each grant is shown in order of the short name, with the amount awarded and spent, \n",
    "in each of the categories. Note: we always assume the start of the run is the same as \n",
    "the date of the `project.xls` file.\n",
    "\n",
    "Four plots correcond to the four expense categories, showing actual expense from the\n",
    "`transactions.xlsx` file, as well as a grey line of constant slope from what is spent at the \n",
    "beginning of the run to the assumption of full spend at the end of the grant. \n",
    "The Salary plot also shows forecast expense to the end of the run.\n",
    "\n",
    "The table 'Forecast Salary' is from the `assign.json` file,\n",
    "together with cost summed ove people, cumulative spend on salary,\n",
    "and remaining balance. The table 'Salary Spending' is similar, but with actual expenses\n",
    "from the `transactions.xlsx` file. The table 'Category Spending' shows \n",
    "expenditure in the four categories."
   ]
  },
  {
   "cell_type": "markdown",
   "id": "1cdb3c30",
   "metadata": {},
   "source": [
    "### Notebook People.ipynb\n",
    "Each person is shown with two plots. The left is the forecast of their\n",
    "FTE on the various grants, and the right is their actual costs\n",
    "charged to different grants, converted to FTE."
   ]
  }
 ],
 "metadata": {
  "kernelspec": {
   "display_name": "Python 3 (ipykernel)",
   "language": "python",
   "name": "python3"
  },
  "language_info": {
   "codemirror_mode": {
    "name": "ipython",
    "version": 3
   },
   "file_extension": ".py",
   "mimetype": "text/x-python",
   "name": "python",
   "nbconvert_exporter": "python",
   "pygments_lexer": "ipython3",
   "version": "3.11.2"
  }
 },
 "nbformat": 4,
 "nbformat_minor": 5
}
